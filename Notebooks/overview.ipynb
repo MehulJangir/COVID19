{
 "cells": [
  {
   "cell_type": "markdown",
   "metadata": {
    "toc": true
   },
   "source": [
    "<h1>Table of Contents<span class=\"tocSkip\"></span></h1>\n",
    "<div class=\"toc\"><ul class=\"toc-item\"><li><span><a href=\"#Problem-Statement\" data-toc-modified-id=\"Problem-Statement-1\"><span class=\"toc-item-num\">1&nbsp;&nbsp;</span>Problem Statement</a></span></li><li><span><a href=\"#Data-Description\" data-toc-modified-id=\"Data-Description-2\"><span class=\"toc-item-num\">2&nbsp;&nbsp;</span>Data Description</a></span></li><li><span><a href=\"#Proposed-Solution\" data-toc-modified-id=\"Proposed-Solution-3\"><span class=\"toc-item-num\">3&nbsp;&nbsp;</span>Proposed Solution</a></span><ul class=\"toc-item\"><li><span><a href=\"#Algorithms\" data-toc-modified-id=\"Algorithms-3.1\"><span class=\"toc-item-num\">3.1&nbsp;&nbsp;</span>Algorithms</a></span></li><li><span><a href=\"#Evaluating-Model-Performance\" data-toc-modified-id=\"Evaluating-Model-Performance-3.2\"><span class=\"toc-item-num\">3.2&nbsp;&nbsp;</span>Evaluating Model Performance</a></span></li></ul></li></ul></div>"
   ]
  },
  {
   "cell_type": "markdown",
   "metadata": {
    "heading_collapsed": true
   },
   "source": [
    "# Problem Statement"
   ]
  },
  {
   "cell_type": "markdown",
   "metadata": {
    "hidden": true
   },
   "source": [
    "We are aiming to put our skills to the test and ..."
   ]
  },
  {
   "cell_type": "markdown",
   "metadata": {},
   "source": [
    "# Data Description"
   ]
  },
  {
   "cell_type": "markdown",
   "metadata": {},
   "source": [
    "The data we're using has been taken from the CSSE/JHU dataset available on Github. Stored locally."
   ]
  },
  {
   "cell_type": "markdown",
   "metadata": {},
   "source": [
    "Now, we're going to plot the number of reported cases in Hubei (ground zero) against time."
   ]
  },
  {
   "cell_type": "code",
   "execution_count": 24,
   "metadata": {},
   "outputs": [],
   "source": [
    "import glob\n",
    "import pandas as pd\n",
    "from matplotlib import pyplot as plt"
   ]
  },
  {
   "cell_type": "code",
   "execution_count": 2,
   "metadata": {},
   "outputs": [],
   "source": [
    "# ========================== #\n",
    "# to help with reading files #\n",
    "# ========================== #\n",
    "def data_reader(month):\n",
    "    # input '01' for January, '02' for February and so on\n",
    "    # returns a list of dataframes containing all the information pertaining to that month\n",
    "    filenames = glob.glob(\"../../covid_data/{}*.csv\".format(month))\n",
    "    timeseries = [s[17:27] for s in filenames]\n",
    "    list_of_dfs = [pd.read_csv(filename) for filename in filenames]\n",
    "    for i in range(len(list_of_dfs)):\n",
    "        list_of_dfs[i]['time'] = pd.to_datetime(timeseries[i])\n",
    "    return list_of_dfs"
   ]
  },
  {
   "cell_type": "code",
   "execution_count": 3,
   "metadata": {
    "scrolled": true
   },
   "outputs": [],
   "source": [
    "january = data_reader('01')\n",
    "february = data_reader('02')\n",
    "march = data_reader('03')"
   ]
  },
  {
   "cell_type": "code",
   "execution_count": 22,
   "metadata": {},
   "outputs": [
    {
     "name": "stderr",
     "output_type": "stream",
     "text": [
      "/Users/mehuljangir/anaconda3/lib/python3.7/site-packages/ipykernel_launcher.py:10: FutureWarning: Sorting because non-concatenation axis is not aligned. A future version\n",
      "of pandas will change to not sort by default.\n",
      "\n",
      "To accept the future behavior, pass 'sort=False'.\n",
      "\n",
      "To retain the current behavior and silence the warning, pass 'sort=True'.\n",
      "\n",
      "  # Remove the CWD from sys.path while we load stuff.\n"
     ]
    },
    {
     "data": {
      "text/html": [
       "<div>\n",
       "<style scoped>\n",
       "    .dataframe tbody tr th:only-of-type {\n",
       "        vertical-align: middle;\n",
       "    }\n",
       "\n",
       "    .dataframe tbody tr th {\n",
       "        vertical-align: top;\n",
       "    }\n",
       "\n",
       "    .dataframe thead th {\n",
       "        text-align: right;\n",
       "    }\n",
       "</style>\n",
       "<table border=\"1\" class=\"dataframe\">\n",
       "  <thead>\n",
       "    <tr style=\"text-align: right;\">\n",
       "      <th></th>\n",
       "      <th>Confirmed</th>\n",
       "      <th>Deaths</th>\n",
       "      <th>Latitude</th>\n",
       "      <th>Recovered</th>\n",
       "      <th>time</th>\n",
       "    </tr>\n",
       "  </thead>\n",
       "  <tbody>\n",
       "    <tr>\n",
       "      <th>0</th>\n",
       "      <td>5806.0</td>\n",
       "      <td>204.0</td>\n",
       "      <td>NaN</td>\n",
       "      <td>141.0</td>\n",
       "      <td>2020-01-31</td>\n",
       "    </tr>\n",
       "    <tr>\n",
       "      <th>1</th>\n",
       "      <td>4903.0</td>\n",
       "      <td>162.0</td>\n",
       "      <td>NaN</td>\n",
       "      <td>90.0</td>\n",
       "      <td>2020-01-30</td>\n",
       "    </tr>\n",
       "    <tr>\n",
       "      <th>2</th>\n",
       "      <td>1058.0</td>\n",
       "      <td>52.0</td>\n",
       "      <td>NaN</td>\n",
       "      <td>42.0</td>\n",
       "      <td>2020-01-26</td>\n",
       "    </tr>\n",
       "    <tr>\n",
       "      <th>3</th>\n",
       "      <td>1423.0</td>\n",
       "      <td>76.0</td>\n",
       "      <td>NaN</td>\n",
       "      <td>45.0</td>\n",
       "      <td>2020-01-27</td>\n",
       "    </tr>\n",
       "    <tr>\n",
       "      <th>4</th>\n",
       "      <td>444.0</td>\n",
       "      <td>17.0</td>\n",
       "      <td>NaN</td>\n",
       "      <td>28.0</td>\n",
       "      <td>2020-01-22</td>\n",
       "    </tr>\n",
       "  </tbody>\n",
       "</table>\n",
       "</div>"
      ],
      "text/plain": [
       "   Confirmed  Deaths  Latitude  Recovered       time\n",
       "0     5806.0   204.0       NaN      141.0 2020-01-31\n",
       "1     4903.0   162.0       NaN       90.0 2020-01-30\n",
       "2     1058.0    52.0       NaN       42.0 2020-01-26\n",
       "3     1423.0    76.0       NaN       45.0 2020-01-27\n",
       "4      444.0    17.0       NaN       28.0 2020-01-22"
      ]
     },
     "execution_count": 22,
     "metadata": {},
     "output_type": "execute_result"
    }
   ],
   "source": [
    "HubeiData = january[0][january[0]['Province/State'] == 'Hubei'].iloc[:,3:7]\n",
    "\n",
    "for df in january[1:]:\n",
    "    HubeiData = pd.concat([HubeiData, df[df['Province/State'] == 'Hubei'].iloc[:,3:7]], ignore_index=True)\n",
    "\n",
    "for df in february:\n",
    "    HubeiData = pd.concat([HubeiData, df[df['Province/State'] == 'Hubei'].iloc[:,3:7]], ignore_index=True)\n",
    "\n",
    "for df in march:\n",
    "    HubeiData = pd.concat([HubeiData, df[df['Province/State'] == 'Hubei'].iloc[:,3:7]], ignore_index=True)\n",
    "HubeiData.head()"
   ]
  },
  {
   "cell_type": "code",
   "execution_count": 27,
   "metadata": {},
   "outputs": [
    {
     "data": {
      "image/png": "[encoded data removed]",
      "text/plain": [
       "<Figure size 1080x432 with 1 Axes>"
      ]
     },
     "metadata": {
      "needs_background": "light"
     },
     "output_type": "display_data"
    }
   ],
   "source": [
    "def temp_line_plot(row, df_list):  # making a line plot of mean temperature values for \n",
    "    plt.figure(figsize=(15,6)) # different components within different devices\n",
    "    labels = ['Supply Pipe', 'Return Pipe', 'Indoor Sensor', 'Outdoor Sensor']  \n",
    "    colors = ['lightseagreen', 'coral', 'goldenrod', 'midnightblue']\n",
    "    plt.xlabel('Timestamp', fontsize=14)\n",
    "    plt.ylabel('Temp. (celsius)', fontsize=14)\n",
    "    for i in range(len(row)):\n",
    "        df = df_list[i][row[i]].loc[:,'datetime':'value']  # extracting datetime and temp. columns \n",
    "        df = df[df['value'] >= -270] # filtering out abnormal values\n",
    "        gp = df.groupby(pd.Grouper(key='datetime', freq='2W')).mean()  # finding the mean for each 2 week group\n",
    "        plt.plot(\n",
    "            gp, \n",
    "            label = labels[i], \n",
    "            color=colors[i],\n",
    "            linestyle='--', # dashed line\n",
    "            marker='o' # markers for better visual\n",
    "        )\n",
    "        plt.legend()\n",
    "    plt.title('Data for Device {}'.format(df_list[0][row[0]]['device_id'][0]), fontsize=20)\n",
    "    plt.grid(False) # better looks\n",
    "    plt.show()\n",
    "    \n",
    "plt.figure(figsize=(15, 6))\n",
    "plt.xlabel('Timestamp', fontsize=14)\n",
    "plt.ylabel('No. of confirmed cases', fontsize=14)\n",
    "plt.plot(\n",
    "    HubeiData['Confirmed'],\n",
    "    marker = '.'\n",
    ")\n",
    "plt.show()"
   ]
  },
  {
   "cell_type": "code",
   "execution_count": 127,
   "metadata": {},
   "outputs": [
    {
     "data": {
      "text/html": [
       "<div>\n",
       "<style scoped>\n",
       "    .dataframe tbody tr th:only-of-type {\n",
       "        vertical-align: middle;\n",
       "    }\n",
       "\n",
       "    .dataframe tbody tr th {\n",
       "        vertical-align: top;\n",
       "    }\n",
       "\n",
       "    .dataframe thead th {\n",
       "        text-align: right;\n",
       "    }\n",
       "</style>\n",
       "<table border=\"1\" class=\"dataframe\">\n",
       "  <thead>\n",
       "    <tr style=\"text-align: right;\">\n",
       "      <th></th>\n",
       "      <th>Confirmed</th>\n",
       "      <th>Deaths</th>\n",
       "      <th>Recovered</th>\n",
       "      <th>time</th>\n",
       "    </tr>\n",
       "  </thead>\n",
       "  <tbody>\n",
       "    <tr>\n",
       "      <th>0</th>\n",
       "      <td>5806</td>\n",
       "      <td>204.0</td>\n",
       "      <td>141.0</td>\n",
       "      <td>2020-01-31</td>\n",
       "    </tr>\n",
       "  </tbody>\n",
       "</table>\n",
       "</div>"
      ],
      "text/plain": [
       "   Confirmed  Deaths  Recovered       time\n",
       "0       5806   204.0      141.0 2020-01-31"
      ]
     },
     "execution_count": 127,
     "metadata": {},
     "output_type": "execute_result"
    }
   ],
   "source": [
    "df ="
   ]
  },
  {
   "cell_type": "markdown",
   "metadata": {
    "heading_collapsed": true
   },
   "source": [
    "# Proposed Solution"
   ]
  },
  {
   "cell_type": "markdown",
   "metadata": {
    "heading_collapsed": true,
    "hidden": true
   },
   "source": [
    "## Algorithms"
   ]
  },
  {
   "cell_type": "markdown",
   "metadata": {
    "heading_collapsed": true,
    "hidden": true
   },
   "source": [
    "## Evaluating Model Performance"
   ]
  }
 ],
 "metadata": {
  "kernelspec": {
   "display_name": "Python 3",
   "language": "python",
   "name": "python3"
  },
  "language_info": {
   "codemirror_mode": {
    "name": "ipython",
    "version": 3
   },
   "file_extension": ".py",
   "mimetype": "text/x-python",
   "name": "python",
   "nbconvert_exporter": "python",
   "pygments_lexer": "ipython3",
   "version": "3.7.3"
  },
  "toc": {
   "base_numbering": 1,
   "nav_menu": {},
   "number_sections": true,
   "sideBar": true,
   "skip_h1_title": false,
   "title_cell": "Table of Contents",
   "title_sidebar": "Contents",
   "toc_cell": true,
   "toc_position": {},
   "toc_section_display": true,
   "toc_window_display": true
  }
 },
 "nbformat": 4,
 "nbformat_minor": 2
}
