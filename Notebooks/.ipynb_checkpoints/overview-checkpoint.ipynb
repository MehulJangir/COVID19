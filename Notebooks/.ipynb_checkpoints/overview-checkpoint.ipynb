{
 "cells": [
  {
   "cell_type": "markdown",
   "metadata": {
    "toc": true
   },
   "source": [
    "<h1>Table of Contents<span class=\"tocSkip\"></span></h1>\n",
    "<div class=\"toc\"><ul class=\"toc-item\"><li><span><a href=\"#Problem-Statement\" data-toc-modified-id=\"Problem-Statement-1\"><span class=\"toc-item-num\">1&nbsp;&nbsp;</span>Problem Statement</a></span></li><li><span><a href=\"#Data-Description\" data-toc-modified-id=\"Data-Description-2\"><span class=\"toc-item-num\">2&nbsp;&nbsp;</span>Data Description</a></span></li><li><span><a href=\"#Proposed-Solution\" data-toc-modified-id=\"Proposed-Solution-3\"><span class=\"toc-item-num\">3&nbsp;&nbsp;</span>Proposed Solution</a></span><ul class=\"toc-item\"><li><span><a href=\"#Algorithms\" data-toc-modified-id=\"Algorithms-3.1\"><span class=\"toc-item-num\">3.1&nbsp;&nbsp;</span>Algorithms</a></span></li><li><span><a href=\"#Evaluating-Model-Performance\" data-toc-modified-id=\"Evaluating-Model-Performance-3.2\"><span class=\"toc-item-num\">3.2&nbsp;&nbsp;</span>Evaluating Model Performance</a></span></li></ul></li></ul></div>"
   ]
  },
  {
   "cell_type": "markdown",
   "metadata": {
    "heading_collapsed": true
   },
   "source": [
    "# Problem Statement"
   ]
  },
  {
   "cell_type": "markdown",
   "metadata": {
    "hidden": true
   },
   "source": [
    "We are aiming to put our skills to the test and ..."
   ]
  },
  {
   "cell_type": "markdown",
   "metadata": {},
   "source": [
    "# Data Description"
   ]
  },
  {
   "cell_type": "markdown",
   "metadata": {},
   "source": [
    "The data we're using has been taken from the CSSE/JHU dataset available on Github. Stored locally."
   ]
  },
  {
   "cell_type": "markdown",
   "metadata": {},
   "source": [
    "Now, we're going to plot the number of reported cases in Hubei (ground zero) against time."
   ]
  },
  {
   "cell_type": "code",
   "execution_count": 24,
   "metadata": {},
   "outputs": [],
   "source": [
    "import glob\n",
    "import pandas as pd\n",
    "from matplotlib import pyplot as plt"
   ]
  },
  {
   "cell_type": "code",
   "execution_count": 202,
   "metadata": {},
   "outputs": [],
   "source": [
    "# ========================== #\n",
    "# to help with reading files #\n",
    "# ========================== #\n",
    "def data_reader(month):\n",
    "    # input '01' for January, '02' for February and so on\n",
    "    # returns a list of dataframes containing all the information pertaining to that month\n",
    "    filenames = glob.glob(\"../../covid_data/{}*.csv\".format(month))\n",
    "    timeseries = [s[17:27] for s in filenames]\n",
    "    list_of_dfs = [pd.read_csv(filename) for filename in filenames]\n",
    "    for i in range(len(list_of_dfs)):\n",
    "        list_of_dfs[i]['time'] = pd.to_datetime(timeseries[i])\n",
    "    return list_of_dfs\n",
    "\n",
    "# =========================================================== #\n",
    "# Plotting confirmed cases against no. of days since outbreak #\n",
    "# =========================================================== #\n",
    "def provincePlot(province, data):\n",
    "    df = pd.DataFrame(columns=['Confirmed', 'Deaths', 'Recovered', 'time'])\n",
    "    df = pd.concat([df, data[data['Province/State'] == province].loc[:,['Confirmed', 'Deaths','Recovered','time']]], ignore_index=True)\n",
    "    df = df.sort_values('time').reset_index()\n",
    "    plt.figure(figsize=(15, 6))\n",
    "    plt.xlabel('Timestamp', fontsize=14)\n",
    "    plt.ylabel('No. of confirmed cases', fontsize=14)\n",
    "    plt.plot(\n",
    "        df['Confirmed'],\n",
    "        marker = 'x',\n",
    "        linestyle='-'\n",
    "    )\n",
    "\n",
    "def countryPlot(country, data):\n",
    "    df = pd.DataFrame(columns=['Confirmed', 'Deaths', 'Recovered', 'time'])\n",
    "    df = pd.concat([df, data[data['Country/Region'] == country].loc[:,['Confirmed', 'Deaths','Recovered','time']]], ignore_index=True)\n",
    "    df = df.sort_values('time').reset_index()\n",
    "    plt.figure(figsize=(15, 6))\n",
    "    plt.xlabel('Timestamp', fontsize=14)\n",
    "    plt.ylabel('No. of confirmed cases', fontsize=14)\n",
    "    plt.plot(\n",
    "        df['Confirmed'],\n",
    "        marker = 'x',\n",
    "        linestyle='-'\n",
    "    )"
   ]
  },
  {
   "cell_type": "code",
   "execution_count": 193,
   "metadata": {
    "scrolled": true
   },
   "outputs": [
    {
     "name": "stderr",
     "output_type": "stream",
     "text": [
      "/Users/mehuljangir/anaconda3/lib/python3.7/site-packages/ipykernel_launcher.py:6: FutureWarning: Sorting because non-concatenation axis is not aligned. A future version\n",
      "of pandas will change to not sort by default.\n",
      "\n",
      "To accept the future behavior, pass 'sort=False'.\n",
      "\n",
      "To retain the current behavior and silence the warning, pass 'sort=True'.\n",
      "\n",
      "  \n"
     ]
    }
   ],
   "source": [
    "january = data_reader('01')\n",
    "february = data_reader('02')\n",
    "march = data_reader('03')\n",
    "data = january[0]\n",
    "for df in january[1:] + february + march:\n",
    "    data = pd.concat([data, df])"
   ]
  },
  {
   "cell_type": "markdown",
   "metadata": {
    "heading_collapsed": true
   },
   "source": [
    "# Proposed Solution"
   ]
  },
  {
   "cell_type": "markdown",
   "metadata": {
    "heading_collapsed": true,
    "hidden": true
   },
   "source": [
    "## Algorithms"
   ]
  },
  {
   "cell_type": "markdown",
   "metadata": {
    "heading_collapsed": true,
    "hidden": true
   },
   "source": [
    "## Evaluating Model Performance"
   ]
  }
 ],
 "metadata": {
  "kernelspec": {
   "display_name": "Python 3",
   "language": "python",
   "name": "python3"
  },
  "language_info": {
   "codemirror_mode": {
    "name": "ipython",
    "version": 3
   },
   "file_extension": ".py",
   "mimetype": "text/x-python",
   "name": "python",
   "nbconvert_exporter": "python",
   "pygments_lexer": "ipython3",
   "version": "3.7.3"
  },
  "toc": {
   "base_numbering": 1,
   "nav_menu": {},
   "number_sections": true,
   "sideBar": true,
   "skip_h1_title": false,
   "title_cell": "Table of Contents",
   "title_sidebar": "Contents",
   "toc_cell": true,
   "toc_position": {},
   "toc_section_display": true,
   "toc_window_display": true
  }
 },
 "nbformat": 4,
 "nbformat_minor": 2
}
