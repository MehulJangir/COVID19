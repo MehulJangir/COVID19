{
 "cells": [
  {
   "cell_type": "markdown",
   "metadata": {
    "toc": true
   },
   "source": [
    "<h1>Table of Contents<span class=\"tocSkip\"></span></h1>\n",
    "<div class=\"toc\"><ul class=\"toc-item\"><li><span><a href=\"#Problem-Statement\" data-toc-modified-id=\"Problem-Statement-1\"><span class=\"toc-item-num\">1&nbsp;&nbsp;</span>Problem Statement</a></span></li><li><span><a href=\"#Data-Description\" data-toc-modified-id=\"Data-Description-2\"><span class=\"toc-item-num\">2&nbsp;&nbsp;</span>Data Description</a></span></li><li><span><a href=\"#Proposed-Solution\" data-toc-modified-id=\"Proposed-Solution-3\"><span class=\"toc-item-num\">3&nbsp;&nbsp;</span>Proposed Solution</a></span><ul class=\"toc-item\"><li><span><a href=\"#Algorithms\" data-toc-modified-id=\"Algorithms-3.1\"><span class=\"toc-item-num\">3.1&nbsp;&nbsp;</span>Algorithms</a></span></li><li><span><a href=\"#Evaluating-Model-Performance\" data-toc-modified-id=\"Evaluating-Model-Performance-3.2\"><span class=\"toc-item-num\">3.2&nbsp;&nbsp;</span>Evaluating Model Performance</a></span></li></ul></li></ul></div>"
   ]
  },
  {
   "cell_type": "markdown",
   "metadata": {
    "heading_collapsed": true
   },
   "source": [
    "# Problem Statement"
   ]
  },
  {
   "cell_type": "markdown",
   "metadata": {
    "hidden": true
   },
   "source": [
    "We are aiming to put our skills to the test and ..."
   ]
  },
  {
   "cell_type": "markdown",
   "metadata": {},
   "source": [
    "# Data Description"
   ]
  },
  {
   "cell_type": "markdown",
   "metadata": {},
   "source": [
    "The data we're using has been taken from the CSSE/JHU dataset available on Github. Stored locally."
   ]
  },
  {
   "cell_type": "markdown",
   "metadata": {},
   "source": [
    "Now, we're going to plot the number of reported cases in Hubei (ground zero) against time."
   ]
  },
  {
   "cell_type": "code",
   "execution_count": 149,
   "metadata": {},
   "outputs": [],
   "source": [
    "import glob\n",
    "import pandas as pd\n",
    "from matplotlib import pyplot as plt\n",
    "import math\n",
    "from datetime import timedelta"
   ]
  },
  {
   "cell_type": "code",
   "execution_count": 62,
   "metadata": {},
   "outputs": [],
   "source": [
    "# ========================== #\n",
    "# to help with reading files #\n",
    "# ========================== #\n",
    "def data_reader(month):\n",
    "    # input '01' for January, '02' for February and so on\n",
    "    # returns a list of dataframes containing all the information pertaining to that month\n",
    "    filenames = glob.glob(\"../../covid_data/{}*.csv\".format(month))\n",
    "    timeseries = [s[17:27] for s in filenames]\n",
    "    list_of_dfs = [pd.read_csv(filename) for filename in filenames]\n",
    "    for i in range(len(list_of_dfs)):\n",
    "        list_of_dfs[i]['time'] = pd.to_datetime(timeseries[i])\n",
    "    return list_of_dfs\n",
    "\n",
    "# =========================================================== #\n",
    "# Plotting confirmed cases against no. of days since outbreak #\n",
    "# =========================================================== #\n",
    "def provincePlot(province, data):\n",
    "    df = pd.DataFrame(columns=['Confirmed', 'Deaths', 'Recovered', 'time'])\n",
    "    df = pd.concat([df, data[data['Province/State'] == province].loc[:,['Confirmed', 'Deaths','Recovered','time']]], ignore_index=True)\n",
    "    df = df.sort_values('time').reset_index()\n",
    "    plt.figure(figsize=(15, 6))\n",
    "    plt.xlabel('Timestamp', fontsize=14)\n",
    "    plt.ylabel('No. of confirmed cases', fontsize=14)\n",
    "    plt.plot(\n",
    "        df['Confirmed'],\n",
    "        marker = 'x',\n",
    "        linestyle=''\n",
    "    )\n",
    "\n",
    "def countryPlot(country, data):\n",
    "    df = pd.DataFrame(columns=['Confirmed', 'Deaths', 'Recovered', 'time'])\n",
    "    df = pd.concat([df, data[data['Country/Region'] == country].loc[:,['Confirmed', 'Deaths','Recovered','time']]], ignore_index=True)\n",
    "    df = df.sort_values('time').reset_index()\n",
    "    plt.figure(figsize=(15, 6))\n",
    "    plt.xlabel('Timestamp', fontsize=14)\n",
    "    plt.ylabel('No. of confirmed cases', fontsize=14)\n",
    "    plt.plot(\n",
    "        df['Confirmed'],\n",
    "        marker = 'x',\n",
    "        linestyle=''\n",
    "    )"
   ]
  },
  {
   "cell_type": "code",
   "execution_count": 175,
   "metadata": {},
   "outputs": [],
   "source": [
    "# ============= #\n",
    "# Cost Function #\n",
    "# ============= #\n",
    "# def computeCost(theta):\n",
    "#     # L (ceiling of our logistic function) = 67786\n",
    "#     L = 67786\n",
    "#     m = data.shape[0] # number of training examples\n",
    "#     n = 1 # we have only one feature, days since the beginning of the outbreak\n",
    "#     cost = 0\n",
    "#     for row in range(m):\n",
    "#         hyp = 0\n",
    "#         hyp += (L/(1 + theta[0] * (math.e ** (theta[1] * data.values[row][9].days))))\n",
    "#         cost_temp = (hyp - data.values[row][0])**2\n",
    "#         cost += cost_temp\n",
    "#     cost *= 0.5\n",
    "#     cost /= m\n",
    "#     return round(cost, 2)\n",
    "\n",
    "# ================ #\n",
    "# Gradient Descent #\n",
    "# ================ #\n",
    "def gradientDescent(theta, alpha, iterations):\n",
    "    m = data.shape[0] # number of training examples\n",
    "    n = 1\n",
    "    L = 67786\n",
    "    for i in range(iterations):\n",
    "        total0 = 0\n",
    "        total1 = 0\n",
    "        for row in range(m):\n",
    "            hyp = 0\n",
    "            hyp += (L/(1 + theta[0] * (math.e ** (theta[1] * data.values[row][-1].days))))\n",
    "            load = hyp - data.values[row][2]\n",
    "            total0 += load * data.values[row][2]\n",
    "            total1 += load * data.values[row][2]\n",
    "        temp0 = theta[0] - ((alpha * total0)/m)\n",
    "        temp1 = theta[1] - ((alpha * total1)/m)\n",
    "        theta = [round(temp0, 4), round(temp1, 4)]\n",
    "    return theta"
   ]
  },
  {
   "cell_type": "code",
   "execution_count": 93,
   "metadata": {
    "scrolled": true
   },
   "outputs": [
    {
     "name": "stderr",
     "output_type": "stream",
     "text": [
      "/Users/mehuljangir/anaconda3/lib/python3.7/site-packages/ipykernel_launcher.py:6: FutureWarning: Sorting because non-concatenation axis is not aligned. A future version\n",
      "of pandas will change to not sort by default.\n",
      "\n",
      "To accept the future behavior, pass 'sort=False'.\n",
      "\n",
      "To retain the current behavior and silence the warning, pass 'sort=True'.\n",
      "\n",
      "  \n"
     ]
    }
   ],
   "source": [
    "january = data_reader('01')\n",
    "february = data_reader('02')\n",
    "march = data_reader('03')\n",
    "data = january[0]\n",
    "for df in january[1:] + february + march:\n",
    "    data = pd.concat([data, df])"
   ]
  },
  {
   "cell_type": "code",
   "execution_count": 94,
   "metadata": {},
   "outputs": [],
   "source": [
    "data['days'] = data.time - min(data.time)\n",
    "data = data[data['Province/State'] == 'Hubei']"
   ]
  },
  {
   "cell_type": "code",
   "execution_count": 74,
   "metadata": {},
   "outputs": [
    {
     "data": {
      "image/png": "[encoded data removed]",
      "text/plain": [
       "<Figure size 1080x432 with 1 Axes>"
      ]
     },
     "metadata": {
      "needs_background": "light"
     },
     "output_type": "display_data"
    }
   ],
   "source": [
    "provincePlot('Hubei', data)"
   ]
  },
  {
   "cell_type": "code",
   "execution_count": 75,
   "metadata": {},
   "outputs": [
    {
     "name": "stdout",
     "output_type": "stream",
     "text": [
      "no. of training examples| 52\n"
     ]
    }
   ],
   "source": [
    "m = data.shape[0]\n",
    "print(\"no. of training examples| {}\".format(m))"
   ]
  },
  {
   "cell_type": "code",
   "execution_count": 76,
   "metadata": {},
   "outputs": [],
   "source": [
    "alpha = 0.01\n",
    "iterations = 1500"
   ]
  },
  {
   "cell_type": "code",
   "execution_count": 176,
   "metadata": {},
   "outputs": [],
   "source": [
    "theta = [0, 0]\n",
    "features = list()\n",
    "for i in data.days:\n",
    "    features.append(i.days)\n",
    "target = list(data.Confirmed)\n",
    "theta = gradientDescent(theta, alpha, iterations)"
   ]
  },
  {
   "cell_type": "code",
   "execution_count": 177,
   "metadata": {},
   "outputs": [
    {
     "data": {
      "text/plain": [
       "[-5523631601.0769, -5523631601.0769]"
      ]
     },
     "execution_count": 177,
     "metadata": {},
     "output_type": "execute_result"
    }
   ],
   "source": [
    "theta"
   ]
  },
  {
   "cell_type": "code",
   "execution_count": 87,
   "metadata": {},
   "outputs": [
    {
     "data": {
      "text/plain": [
       "[-5523631601.0769, -5523631601.0769]"
      ]
     },
     "execution_count": 87,
     "metadata": {},
     "output_type": "execute_result"
    }
   ],
   "source": [
    "theta"
   ]
  },
  {
   "cell_type": "code",
   "execution_count": 186,
   "metadata": {},
   "outputs": [
    {
     "data": {
      "text/plain": [
       "[61623.63636363636,\n",
       " 61634.831497770116,\n",
       " 61646.00832019223,\n",
       " 61657.166853495466,\n",
       " 61668.30712027169]"
      ]
     },
     "execution_count": 186,
     "metadata": {},
     "output_type": "execute_result"
    }
   ],
   "source": [
    "features = list()\n",
    "for i in data.days:\n",
    "    features.append(i.days)\n",
    "output = list()\n",
    "for f in features:\n",
    "     val = 67786/(1 + 0.1 * (math.e ** (-.002 * f)))\n",
    "     output.append(val)\n",
    "output[:5]"
   ]
  },
  {
   "cell_type": "markdown",
   "metadata": {
    "heading_collapsed": true
   },
   "source": [
    "# Proposed Solution"
   ]
  },
  {
   "cell_type": "markdown",
   "metadata": {
    "heading_collapsed": true,
    "hidden": true
   },
   "source": [
    "## Algorithms"
   ]
  },
  {
   "cell_type": "markdown",
   "metadata": {
    "heading_collapsed": true,
    "hidden": true
   },
   "source": [
    "## Evaluating Model Performance"
   ]
  }
 ],
 "metadata": {
  "kernelspec": {
   "display_name": "Python 3",
   "language": "python",
   "name": "python3"
  },
  "language_info": {
   "codemirror_mode": {
    "name": "ipython",
    "version": 3
   },
   "file_extension": ".py",
   "mimetype": "text/x-python",
   "name": "python",
   "nbconvert_exporter": "python",
   "pygments_lexer": "ipython3",
   "version": "3.7.3"
  },
  "toc": {
   "base_numbering": 1,
   "nav_menu": {},
   "number_sections": true,
   "sideBar": true,
   "skip_h1_title": false,
   "title_cell": "Table of Contents",
   "title_sidebar": "Contents",
   "toc_cell": true,
   "toc_position": {},
   "toc_section_display": true,
   "toc_window_display": true
  }
 },
 "nbformat": 4,
 "nbformat_minor": 4
}
